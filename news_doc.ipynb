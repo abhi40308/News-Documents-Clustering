{
  "nbformat": 4,
  "nbformat_minor": 0,
  "metadata": {
    "colab": {
      "name": "Untitled0.ipynb",
      "version": "0.3.2",
      "provenance": [],
      "collapsed_sections": []
    },
    "kernelspec": {
      "name": "python3",
      "display_name": "Python 3"
    },
    "accelerator": "GPU"
  },
  "cells": [
    {
      "metadata": {
        "id": "oThi-GGAYkSa",
        "colab_type": "code",
        "colab": {}
      },
      "cell_type": "code",
      "source": [
        "import numpy as np\n",
        "import pandas as pd\n",
        "import matplotlib.pyplot as plt\n",
        "import seaborn as sns\n",
        "import sys\n",
        "import nltk\n",
        "# nltk.download('stopwords')\n",
        "from nltk.corpus import stopwords\n",
        "# from bs4 import BeautifulSoup as Soup\n",
        "import json\n"
      ],
      "execution_count": 0,
      "outputs": []
    },
    {
      "metadata": {
        "id": "sBpZQKBAAf3M",
        "colab_type": "code",
        "outputId": "d075812b-26a3-46a6-ec37-e1ccc7c2fb89",
        "colab": {
          "base_uri": "https://localhost:8080/",
          "height": 34
        }
      },
      "cell_type": "code",
      "source": [
        "from google.colab import drive\n",
        "drive.mount('/content/gdrive')"
      ],
      "execution_count": 2,
      "outputs": [
        {
          "output_type": "stream",
          "text": [
            "Drive already mounted at /content/gdrive; to attempt to forcibly remount, call drive.mount(\"/content/gdrive\", force_remount=True).\n"
          ],
          "name": "stdout"
        }
      ]
    },
    {
      "metadata": {
        "id": "qDSE9CAoB2sd",
        "colab_type": "code",
        "colab": {}
      },
      "cell_type": "code",
      "source": [
        "content = []\n",
        "with open('/content/gdrive/My Drive/TREC_article_2017.txt', 'r') as f:\n",
        "  content = f.readlines()\n",
        "content = [json.loads(x.strip()) for x in content]\n",
        "# print(content)\n",
        "data = json.loads(json.dumps(content))"
      ],
      "execution_count": 0,
      "outputs": []
    },
    {
      "metadata": {
        "id": "QFpbkwsnNjgQ",
        "colab_type": "code",
        "outputId": "f2285ee1-9e3e-4778-fb08-ef40e76673bf",
        "colab": {
          "base_uri": "https://localhost:8080/",
          "height": 54
        }
      },
      "cell_type": "code",
      "source": [
        "    content_list = []\n",
        "    for i in data:\n",
        "        string_content = \"\"\n",
        "        if \"contents\" in i:\n",
        "            for all in i[\"contents\"]:\n",
        "                try:\n",
        "                    if \"content\" in all:\n",
        "                        string_content = string_content + str(all[\"content\"])\n",
        "                except:\n",
        "                    continue\n",
        "            content_list.append(string_content)\n",
        "    print(content_list[1])"
      ],
      "execution_count": 4,
      "outputs": [
        {
          "output_type": "stream",
          "text": [
            "Public SafetyIn Washington, 2016 was considerably warmer than normalBy Martin Weil1483233420000A full assessment of the year that ended Saturday night may demand deep thought and long reflection. But something significant can be said right now, based solely on the thermometer.In Washington, the year 2016 was warm, considerably warmer than normal. In fact, it was the second-warmest year in Washington’s weather history.Based on National Weather Service figures, it was 2.2 degrees warmer than normal. Its average temperature was 60.4 degrees. In all the years since records began in 1871, only 2012, with its 61.5, was warmer.Washington’s warm year of 2016 was the product of warm days and warm months.Saturday might be seen as symbolic. According to Weather Service data, Saturday, which brought an end to both December and 2016, was 3 degrees warmer than a normal New Year’s Eve.December 2016 ended 2.1 degrees above the December norm.It should be noted that even in a warm year, not every month exceeded the norm. January with its blizzard was colder, and May was cooler.But remarkably high temperatures characterized August and September. August was 4.6 degrees above normal, and September was 5.0 above.Among August’s hot days were three with readings of 100 or above. September had a 98.December, a colder month, was not without its own warm days: 67 on the 18th and 68 on the 27th.\n"
          ],
          "name": "stdout"
        }
      ]
    },
    {
      "metadata": {
        "id": "to7Fg6kUZGwT",
        "colab_type": "code",
        "outputId": "6cb31aee-5add-4c15-b6be-0743b4dca053",
        "colab": {
          "base_uri": "https://localhost:8080/",
          "height": 51
        }
      },
      "cell_type": "code",
      "source": [
        "    news_df = pd.DataFrame({'document':content_list})\n",
        "    \n",
        "    # removing everything except alphabets`\n",
        "    news_df['clean_doc'] = news_df['document'].str.replace(\"[^a-zA-Z#]\", \" \")\n",
        "\n",
        "    # removing null fields\n",
        "    news_df = news_df[news_df['clean_doc'].notnull()]\n",
        "    # removing short words\n",
        "    news_df['clean_doc'] = news_df['clean_doc'].apply(lambda x: ' '.join([w for w in x.split() if len(w)>3]))\n",
        "\n",
        "    # make all text lowercase\n",
        "    news_df['clean_doc'] = news_df['clean_doc'].apply(lambda x: x.lower())\n",
        "\n",
        "    nltk.download('stopwords')\n",
        "    stop_words = stopwords.words('english')\n",
        "    stop_words.extend(['span','class','spacing','href','html','http','title', 'stats', 'washingtonpost'])\n",
        "\n",
        "    # tokenization\n",
        "    tokenized_doc = news_df['clean_doc'].apply(lambda x: x.split())\n",
        "\n",
        "    # remove stop-words\n",
        "    tokenized_doc = tokenized_doc.apply(lambda x: [item for item in x if item not in stop_words])\n",
        "    # print(tokenized_doc)\n",
        "\n",
        "    # de-tokenization\n",
        "    detokenized_doc = []\n",
        "    for i in range(len(tokenized_doc)):\n",
        "        if i in tokenized_doc:\n",
        "            t = ' '.join(tokenized_doc[i])\n",
        "            detokenized_doc.append(t)\n"
      ],
      "execution_count": 5,
      "outputs": [
        {
          "output_type": "stream",
          "text": [
            "[nltk_data] Downloading package stopwords to /root/nltk_data...\n",
            "[nltk_data]   Package stopwords is already up-to-date!\n"
          ],
          "name": "stdout"
        }
      ]
    },
    {
      "metadata": {
        "id": "UKHqM0nrZSL4",
        "colab_type": "code",
        "outputId": "ad3f2dde-fbd3-4c61-ead8-8c5ba7177194",
        "colab": {
          "base_uri": "https://localhost:8080/",
          "height": 88
        }
      },
      "cell_type": "code",
      "source": [
        "    from sklearn.feature_extraction.text import TfidfVectorizer\n",
        "\n",
        "    # tfidf vectorizer of scikit learn\n",
        "    vectorizer = TfidfVectorizer(stop_words=stop_words,max_features=10000, max_df = 0.5,\n",
        "                                    use_idf = True,\n",
        "                                    ngram_range=(1,3))\n",
        "\n",
        "    X = vectorizer.fit_transform(detokenized_doc)\n",
        "\n",
        "    print(X.shape) # check shape of the document-term matrix\n",
        "\n",
        "    terms = vectorizer.get_feature_names()\n",
        "    # print(terms)\n",
        "\n",
        "# applying k means //////////////////////////\n",
        "\n",
        "    from sklearn.cluster import KMeans\n",
        "\n",
        "    num_clusters = 10\n",
        "\n",
        "    km = KMeans(n_clusters=num_clusters)\n",
        "\n",
        "    print(\"here\")\n",
        "    km.fit(X)\n",
        "    \n",
        "\n",
        "    clusters = km.labels_.tolist()\n",
        "\n",
        "    # print(clusters)"
      ],
      "execution_count": 6,
      "outputs": [
        {
          "output_type": "stream",
          "text": [
            "(22618, 10000)\n",
            "here\n",
            \
          ],
          "name": "stdout"
        }
      ]
    },
    {
      "metadata": {
        "id": "YGkcnOrNZxfn",
        "colab_type": "code",
        "outputId": "1ed14478-b6ed-48ae-8a02-c011d7ea9847",
        "colab": {
          "base_uri": "https://localhost:8080/",
          "height": 1584
        }
      },
      "cell_type": "code",
      "source": [
        "# applying lsa //////////////////////////////\n",
        "    \n",
        "    print(clusters)\n",
        "\n",
        "    from sklearn.decomposition import TruncatedSVD\n",
        "    from sklearn.utils.extmath import randomized_svd\n",
        "\n",
        "    U, Sigma, VT = randomized_svd(X, \n",
        "                                  n_components=10,\n",
        "                                  n_iter=100,\n",
        "                              random_state=122)\n",
        "\n",
        "    # SVD represent documents and terms in vectors\n",
        "    # svd_model = TruncatedSVD(n_components=2, algorithm='randomized', n_iter=100, random_state=122)\n",
        "\n",
        "    # svd_model.fit(X)\n",
        "    \n",
        "    # print(U.shape)\n",
        "\n",
        "    for i, comp in enumerate(VT):\n",
        "        terms_comp = zip(terms, comp)\n",
        "        sorted_terms = sorted(terms_comp, key= lambda x:x[1], reverse=True)[:7]\n",
        "        print(\"Concept \"+str(i)+\": \")\n",
        "        for t in sorted_terms:\n",
        "            print(t[0])\n",
        "        print(\" \")\n"
      ],
      "execution_count": 7,
      "outputs": [
        {
          "output_type": "stream",
          "text": [
            \,
            "Concept 0: \n",
            "trump\n",
            "president\n",
            "story\n",
            "term shape\n",
            "term shape rect\n",
            "house\n",
            "people\n",
            " \n",
            "Concept 1: \n",
            "tillerson\n",
            "russia\n",
            "sanctions\n",
            "secretary state\n",
            "senate\n",
            "exxon\n",
            "exxonmobil\n",
            " \n",
            "Concept 2: \n",
            "trump\n",
            "president\n",
            "white house\n",
            "opinions\n",
            "https opinions\n",
            "house\n",
            "comey\n",
            " \n",
            "Concept 3: \n",
            "police\n",
            "police said\n",
            "trump\n",
            "block\n",
            "county\n",
            "officers\n",
            "shooting\n",
            " \n",
            "Concept 4: \n",
            "showlink\n",
            "animal\n",
            "adoption\n",
            "corp\n",
            "area\n",
            "manassas\n",
            "free\n",
            " \n",
            "Concept 5: \n",
            "health\n",
            "care\n",
            "health care\n",
            "bill\n",
            "republicans\n",
            "senate\n",
            "medicaid\n",
            " \n",
            "Concept 6: \n",
            "amazon\n",
            "https amazon\n",
            "linkcode\n",
            "thewaspos\n",
            "https amazon product\n",
            "amazon product\n",
            "linkcode creativeasin\n",
            " \n",
            "Concept 7: \n",
            "corp\n",
            "area\n",
            "lane\n",
            "michael\n",
            "estate\n",
            "terr\n",
            "million\n",
            " \n",
            "Concept 8: \n",
            "recipes\n",
            "https recipes\n",
            "term shape\n",
            "term shape rect\n",
            "rect target https\n",
            "target https\n",
            "target https recipes\n",
            " \n",
            "Concept 9: \n",
            "korea\n",
            "north korea\n",
            "north\n",
            "china\n",
            "school\n",
            "united\n",
            "korean\n",
            " \n"
          ],
          "name": "stdout"
        }
      ]
    },
    {
      "metadata": {
        "id": "ZGuVnyMQZzLl",
        "colab_type": "code",
        "outputId": "8c53b421-a3c9-4f40-823c-eab6c74bf08b",
        "colab": {
          "base_uri": "https://localhost:8080/",
          "height": 374
        }
      },
      "cell_type": "code",
      "source": [
        "# topic visulation //////////////////////////////\n",
        "\n",
        "import umap\n",
        "\n",
        "X_topics=U*Sigma\n",
        "embedding = umap.UMAP(n_neighbors=100, min_dist=0.5, random_state=12).fit_transform(X_topics)\n",
        "\n",
        "plt.figure(figsize=(7,5))\n",
        "plt.scatter(embedding[:, 0], embedding[:, 1], c = clusters, s = 20, edgecolor='none')\n",
        "plt.show()\n"
      ],
      "execution_count": 9,
      "outputs": [
        {
          "output_type": "stream",
          "text": [
            "/usr/local/lib/python3.6/dist-packages/umap/spectral.py:229: UserWarning: Embedding a total of 3 separate connected components using meta-embedding (experimental)\n",
            "  n_components\n"
          ],
          "name": "stderr"
        },
        {
          "output_type": "display_data",
          "data": {
            "image/png": "iVBORw0KGgoAAAANSUhEUgAAAa0AAAEvCAYAAAD2Lp7kAAAABHNCSVQICAgIfAhkiAAAAAlwSFlz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\nRUREssHSIiIi2WBpERGRbLC0iIhINv4HNU4O16DL/WoAAAAASUVORK5CYII=\n",
            "text/plain": [
              "<Figure size 504x360 with 1 Axes>"
            ]
          },
          "metadata": {
            "tags": []
          }
        }
      ]
    }
  ]
}